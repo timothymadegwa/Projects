{
 "cells": [
  {
   "cell_type": "markdown",
   "metadata": {},
   "source": [
    "# DAKAR AIR POLLUTION"
   ]
  },
  {
   "cell_type": "markdown",
   "metadata": {},
   "source": [
    "### 1.0 DESCRIPTION \n",
    "\n",
    "The goal of this project is to predict air quality in Dakar, Senegal based on ground sensor data that records PM2.5 pollution and historical weather data."
   ]
  },
  {
   "cell_type": "markdown",
   "metadata": {},
   "source": [
    "### 1.1 Problem\n",
    "\n",
    "This problem is a supervised regression machine learning task. The objective is to use historical waether data and PM2.5 sensor data to predict the air quality in Dakar Senegal. This is a standard supervised regression task:\n",
    "\n",
    "* __Supervised__: The labels are included in the training data and the goal is to train a model to learn to predict the labels from the features\n",
    "* __Regression__: The label is a positive continuous variable"
   ]
  },
  {
   "cell_type": "markdown",
   "metadata": {},
   "source": [
    "### 1.2 Description of the data\n",
    "\n",
    "There are two datasets used here namely:\n",
    "- PM2.5 Dakar 2010-2019\n",
    "- GOSS (Historical Weather data)\n",
    "\n",
    "#### PM2.5 Dakar 2010-2019\n",
    "\n",
    "An excel file containing 10 worksheets of PM2.5 pollution readings from 2010 to 2019\n",
    "\n",
    "#### GOSS (Historical Weather data)\n",
    "\n",
    "Historical weather data from August 2011 to November 2019\n",
    "\n",
    "- station:three or four character site identifier\n",
    "- valid:timestamp of the observation\n",
    "- tmpf:Air Temperature in Fahrenheit, typically @ 2 meters\n",
    "- dwpf:Dew Point Temperature in Fahrenheit, typically @ 2 meters\n",
    "- relh:Relative Humidity in %\n",
    "- drct:Wind Direction in degrees from north\n",
    "- sknt:Wind Speed in knots\n",
    "- p01i:One hour precipitation for the period from the observation time to the time of the previous hourly precipitation reset. This varies slightly by site. Values are in inches. This value may or may not contain frozen precipitation melted by some device on the sensor or estimated by some other means. Unfortunately, we do not know of an authoritative database denoting which station has which sensor.\n",
    "- alti:Pressure altimeter in inches\n",
    "- mslp:Sea Level Pressure in millibar\n",
    "- vsby:Visibility in miles\n",
    "- gust:Wind Gust in knots\n",
    "- skyc1:Sky Level 1 Coverage\n",
    "- skc2:Sky Level 2 Coverage\n",
    "- skyc3:Sky Level 3 Coverage\n",
    "- skyc4:Sky Level 4 Coverage\n",
    "- skyl1:Sky Level 1 Altitude in feet\n",
    "- skyl2:Sky Level 2 Altitude in feet\n",
    "- skyl3:Sky Level 3 Altitude in feet\n",
    "- skyl4:Sky Level 4 Altitude in feet\n",
    "- wxcodes:Present Weather Codes (space seperated)\n",
    "- feel:Apparent Temperature (Wind Chill or Heat Index) in Fahrenheit\n",
    "- ice_accretion_1hr:Ice Accretion over 1 Hour (inches)\n",
    "- ice_accretion_3hr:Ice Accretion over 3 Hours (inches)\n",
    "- ice_accretion_6hr:Ice Accretion over 6 Hours (inches)\n",
    "- peak_wind_gust:Peak Wind Gust (from PK WND METAR remark) (knots)\n",
    "- peak_wind_drct:Peak Wind Gust Direction (from PK WND METAR remark) (deg)\n",
    "- peak_wind_time:Peak Wind Gust Time (from PK WND METAR remark)\n",
    "- metar:unprocessed reported observation in METAR format\n"
   ]
  },
  {
   "cell_type": "markdown",
   "metadata": {},
   "source": [
    "### Setting up the environment\n",
    "\n",
    "Importing relevant libraries"
   ]
  },
  {
   "cell_type": "code",
   "execution_count": 84,
   "metadata": {},
   "outputs": [],
   "source": [
    "import pandas as pd\n",
    "import xgboost as xgb\n",
    "import numpy as np\n",
    "import matplotlib.pyplot as plt\n",
    "import seaborn as sns\n",
    "from sklearn.model_selection import GridSearchCV, cross_val_score,KFold\n",
    "from sklearn.ensemble import RandomForestRegressor\n",
    "from sklearn.linear_model import LinearRegression\n",
    "from sklearn.metrics import mean_squared_error\n",
    "\n",
    "plt.style.use('ggplot')\n",
    "\n",
    "import warnings\n",
    "warnings.filterwarnings('ignore')"
   ]
  },
  {
   "cell_type": "markdown",
   "metadata": {},
   "source": [
    "### 2.0 Loading the data"
   ]
  },
  {
   "cell_type": "code",
   "execution_count": 2,
   "metadata": {},
   "outputs": [],
   "source": [
    "#loading all the 10 worksheets of the file into different dataframes\n",
    "data10= pd.read_excel('PM2,5_Dakar_2010_2019_OK.xlsx', sheet_name=0)\n",
    "data11= pd.read_excel('PM2,5_Dakar_2010_2019_OK.xlsx', sheet_name=1)\n",
    "data12= pd.read_excel('PM2,5_Dakar_2010_2019_OK.xlsx', sheet_name=2)\n",
    "data13= pd.read_excel('PM2,5_Dakar_2010_2019_OK.xlsx', sheet_name=3)\n",
    "data14= pd.read_excel('PM2,5_Dakar_2010_2019_OK.xlsx', sheet_name=4)\n",
    "data15= pd.read_excel('PM2,5_Dakar_2010_2019_OK.xlsx', sheet_name=5)\n",
    "data16= pd.read_excel('PM2,5_Dakar_2010_2019_OK.xlsx', sheet_name=6)\n",
    "data17= pd.read_excel('PM2,5_Dakar_2010_2019_OK.xlsx', sheet_name=7)\n",
    "data18= pd.read_excel('PM2,5_Dakar_2010_2019_OK.xlsx', sheet_name=8)\n",
    "data19= pd.read_excel('PM2,5_Dakar_2010_2019_OK.xlsx', sheet_name=9)"
   ]
  },
  {
   "cell_type": "code",
   "execution_count": 3,
   "metadata": {},
   "outputs": [],
   "source": [
    "#created a list of the dataframes\n",
    "data_list = [data10,data11,data12,data13,data14,data15,data16,data17,data18,data19]"
   ]
  },
  {
   "cell_type": "markdown",
   "metadata": {},
   "source": [
    "### 2.1 Exploring the data"
   ]
  },
  {
   "cell_type": "code",
   "execution_count": 4,
   "metadata": {},
   "outputs": [
    {
     "name": "stdout",
     "output_type": "stream",
     "text": [
      "-----------------------------------------------------\n",
      "2010\n",
      "<class 'pandas.core.frame.DataFrame'>\n",
      "RangeIndex: 369 entries, 0 to 368\n",
      "Data columns (total 3 columns):\n",
      "Date        368 non-null object\n",
      "Bel Air     315 non-null float64\n",
      "Bd. Rép.    277 non-null float64\n",
      "dtypes: float64(2), object(1)\n",
      "memory usage: 8.8+ KB\n",
      "None\n",
      "-----------------------------------------------------\n",
      "2011\n",
      "<class 'pandas.core.frame.DataFrame'>\n",
      "RangeIndex: 369 entries, 0 to 368\n",
      "Data columns (total 3 columns):\n",
      "Date             368 non-null object\n",
      "Bel Air          331 non-null float64\n",
      "Bd République    350 non-null float64\n",
      "dtypes: float64(2), object(1)\n",
      "memory usage: 8.8+ KB\n",
      "None\n",
      "-----------------------------------------------------\n",
      "2012\n",
      "<class 'pandas.core.frame.DataFrame'>\n",
      "RangeIndex: 370 entries, 0 to 369\n",
      "Data columns (total 3 columns):\n",
      "Date       369 non-null object\n",
      "Bel Air    319 non-null float64\n",
      "Bd Rép     263 non-null float64\n",
      "dtypes: float64(2), object(1)\n",
      "memory usage: 8.8+ KB\n",
      "None\n",
      "-----------------------------------------------------\n",
      "2013\n",
      "<class 'pandas.core.frame.DataFrame'>\n",
      "RangeIndex: 369 entries, 0 to 368\n",
      "Data columns (total 3 columns):\n",
      "Date       368 non-null object\n",
      "Bel Air    230 non-null float64\n",
      "Bd Rép     305 non-null float64\n",
      "dtypes: float64(2), object(1)\n",
      "memory usage: 8.8+ KB\n",
      "None\n",
      "-----------------------------------------------------\n",
      "2014\n",
      "<class 'pandas.core.frame.DataFrame'>\n",
      "RangeIndex: 369 entries, 0 to 368\n",
      "Data columns (total 2 columns):\n",
      "Date      368 non-null object\n",
      "Bd Rép    294 non-null float64\n",
      "dtypes: float64(1), object(1)\n",
      "memory usage: 5.9+ KB\n",
      "None\n",
      "-----------------------------------------------------\n",
      "2015\n",
      "<class 'pandas.core.frame.DataFrame'>\n",
      "RangeIndex: 369 entries, 0 to 368\n",
      "Data columns (total 3 columns):\n",
      "Date        368 non-null object\n",
      "Bel Air     192 non-null float64\n",
      "Bd. Rép.    198 non-null float64\n",
      "dtypes: float64(2), object(1)\n",
      "memory usage: 8.8+ KB\n",
      "None\n",
      "-----------------------------------------------------\n",
      "2016\n",
      "<class 'pandas.core.frame.DataFrame'>\n",
      "RangeIndex: 370 entries, 0 to 369\n",
      "Data columns (total 2 columns):\n",
      "Date       369 non-null object\n",
      "Bel Air    222 non-null float64\n",
      "dtypes: float64(1), object(1)\n",
      "memory usage: 5.9+ KB\n",
      "None\n",
      "-----------------------------------------------------\n",
      "2017\n",
      "<class 'pandas.core.frame.DataFrame'>\n",
      "RangeIndex: 369 entries, 0 to 368\n",
      "Data columns (total 3 columns):\n",
      "Date        368 non-null object\n",
      "Bel Air     114 non-null float64\n",
      "Bd. Rép.    12 non-null float64\n",
      "dtypes: float64(2), object(1)\n",
      "memory usage: 8.8+ KB\n",
      "None\n",
      "-----------------------------------------------------\n",
      "2018\n",
      "<class 'pandas.core.frame.DataFrame'>\n",
      "RangeIndex: 369 entries, 0 to 368\n",
      "Data columns (total 4 columns):\n",
      "Date          368 non-null object\n",
      "Bel Air       20 non-null float64\n",
      "Bd. Rép.      150 non-null float64\n",
      "Guediawaye    141 non-null float64\n",
      "dtypes: float64(3), object(1)\n",
      "memory usage: 11.7+ KB\n",
      "None\n",
      "-----------------------------------------------------\n",
      "2019\n",
      "<class 'pandas.core.frame.DataFrame'>\n",
      "RangeIndex: 94 entries, 0 to 93\n",
      "Data columns (total 2 columns):\n",
      "Date          93 non-null object\n",
      "Guediawaye    93 non-null float64\n",
      "dtypes: float64(1), object(1)\n",
      "memory usage: 1.6+ KB\n",
      "None\n"
     ]
    }
   ],
   "source": [
    "#looped through the list of dataframes and printed out the info for each dataframe\n",
    "year= 2010\n",
    "for data in data_list:\n",
    "    print('-----------------------------------------------------')\n",
    "    print(year)\n",
    "    print(data.info())\n",
    "    year+=1"
   ]
  },
  {
   "cell_type": "code",
   "execution_count": 5,
   "metadata": {},
   "outputs": [
    {
     "name": "stdout",
     "output_type": "stream",
     "text": [
      "-----------------------------------------------------\n",
      "2010\n",
      "          Bel Air    Bd. Rép.\n",
      "count  315.000000  277.000000\n",
      "mean    39.528461   41.648454\n",
      "std     36.172203   35.203499\n",
      "min      7.300000    3.636364\n",
      "25%     22.435960   24.958330\n",
      "50%     30.620830   33.318180\n",
      "75%     40.633330   44.043480\n",
      "max    312.000000  275.000000\n",
      "-----------------------------------------------------\n",
      "2011\n",
      "          Bel Air  Bd République\n",
      "count  331.000000     350.000000\n",
      "mean    38.723704      34.478171\n",
      "std     29.894445      28.897368\n",
      "min      0.000000       4.000000\n",
      "25%     22.281250      18.074277\n",
      "50%     32.600000      27.510870\n",
      "75%     46.863045      41.885420\n",
      "max    328.000000     348.000000\n",
      "-----------------------------------------------------\n",
      "2012\n",
      "          Bel Air      Bd Rép\n",
      "count  319.000000  263.000000\n",
      "mean    45.464249   43.525625\n",
      "std     54.082599   46.948610\n",
      "min      4.754167    2.133333\n",
      "25%     17.838480   17.791665\n",
      "50%     27.665000   28.041670\n",
      "75%     54.285415   48.729165\n",
      "max    489.383300  280.260900\n",
      "-----------------------------------------------------\n",
      "2013\n",
      "          Bel Air      Bd Rép\n",
      "count  230.000000  305.000000\n",
      "mean    35.655754   34.922392\n",
      "std     32.601430   37.601074\n",
      "min      5.858334    0.625000\n",
      "25%     21.345832   16.333330\n",
      "50%     26.300000   23.583330\n",
      "75%     36.297913   36.000000\n",
      "max    227.000000  303.000000\n",
      "-----------------------------------------------------\n",
      "2014\n",
      "           Bd Rép\n",
      "count  294.000000\n",
      "mean    28.804816\n",
      "std     32.801627\n",
      "min      0.777778\n",
      "25%     10.629675\n",
      "50%     20.750000\n",
      "75%     34.822918\n",
      "max    291.000000\n",
      "-----------------------------------------------------\n",
      "2015\n",
      "          Bel Air    Bd. Rép.\n",
      "count  192.000000  198.000000\n",
      "mean    45.942726   31.094720\n",
      "std     48.402954   35.546697\n",
      "min      6.212500    1.647059\n",
      "25%     20.033333   12.073563\n",
      "50%     26.511540   19.229165\n",
      "75%     52.673958   37.312497\n",
      "max    275.083300  210.076900\n",
      "-----------------------------------------------------\n",
      "2016\n",
      "          Bel Air\n",
      "count  222.000000\n",
      "mean    27.261489\n",
      "std     27.523410\n",
      "min      4.333333\n",
      "25%     12.932290\n",
      "50%     18.277500\n",
      "75%     30.286670\n",
      "max    219.000000\n",
      "-----------------------------------------------------\n",
      "2017\n",
      "          Bel Air    Bd. Rép.\n",
      "count  114.000000   12.000000\n",
      "mean    22.233227  127.959103\n",
      "std     12.222751  105.948530\n",
      "min     11.057140   10.000000\n",
      "25%     15.561458   54.850963\n",
      "50%     18.302900   74.570515\n",
      "75%     24.702270  249.537850\n",
      "max    111.000000  271.700000\n",
      "-----------------------------------------------------\n",
      "2018\n",
      "         Bel Air    Bd. Rép.  Guediawaye\n",
      "count  20.000000  150.000000  141.000000\n",
      "mean   49.479084   50.506667   73.233475\n",
      "std    18.921078   43.234144   76.640022\n",
      "min    17.000000    9.000000   17.840000\n",
      "25%    35.950000   26.000000   40.310000\n",
      "50%    48.250000   34.000000   54.610000\n",
      "75%    59.825000   59.000000   76.290000\n",
      "max    85.200000  244.000000  543.390000\n",
      "-----------------------------------------------------\n",
      "2019\n",
      "       Guediawaye\n",
      "count   93.000000\n",
      "mean    90.386124\n",
      "std     71.781819\n",
      "min     20.160000\n",
      "25%     45.340000\n",
      "50%     66.710000\n",
      "75%    114.520000\n",
      "max    393.490000\n"
     ]
    }
   ],
   "source": [
    "#looped through the list of dataframes and printed out the descriptive statistics for each dataframe\n",
    "year= 2010\n",
    "for data in data_list:\n",
    "    print('-----------------------------------------------------')\n",
    "    print(year)\n",
    "    print(data.describe())\n",
    "    year+=1"
   ]
  },
  {
   "cell_type": "markdown",
   "metadata": {},
   "source": [
    "### 2.2 Checking for missing data\n",
    "\n",
    "Checking for missing data in the yearly PM2.5 data"
   ]
  },
  {
   "cell_type": "code",
   "execution_count": 6,
   "metadata": {},
   "outputs": [
    {
     "name": "stdout",
     "output_type": "stream",
     "text": [
      "-----------------------------------------------------\n",
      "2010\n",
      "Date        0.002710\n",
      "Bel Air     0.146341\n",
      "Bd. Rép.    0.249322\n",
      "dtype: float64\n",
      "-----------------------------------------------------\n",
      "2011\n",
      "Date             0.002710\n",
      "Bel Air          0.102981\n",
      "Bd République    0.051491\n",
      "dtype: float64\n",
      "-----------------------------------------------------\n",
      "2012\n",
      "Date       0.002703\n",
      "Bel Air    0.137838\n",
      "Bd Rép     0.289189\n",
      "dtype: float64\n",
      "-----------------------------------------------------\n",
      "2013\n",
      "Date       0.002710\n",
      "Bel Air    0.376694\n",
      "Bd Rép     0.173442\n",
      "dtype: float64\n",
      "-----------------------------------------------------\n",
      "2014\n",
      "Date      0.002710\n",
      "Bd Rép    0.203252\n",
      "dtype: float64\n",
      "-----------------------------------------------------\n",
      "2015\n",
      "Date        0.002710\n",
      "Bel Air     0.479675\n",
      "Bd. Rép.    0.463415\n",
      "dtype: float64\n",
      "-----------------------------------------------------\n",
      "2016\n",
      "Date       0.002703\n",
      "Bel Air    0.400000\n",
      "dtype: float64\n",
      "-----------------------------------------------------\n",
      "2017\n",
      "Date        0.002710\n",
      "Bel Air     0.691057\n",
      "Bd. Rép.    0.967480\n",
      "dtype: float64\n",
      "-----------------------------------------------------\n",
      "2018\n",
      "Date          0.002710\n",
      "Bel Air       0.945799\n",
      "Bd. Rép.      0.593496\n",
      "Guediawaye    0.617886\n",
      "dtype: float64\n",
      "-----------------------------------------------------\n",
      "2019\n",
      "Date          0.010638\n",
      "Guediawaye    0.010638\n",
      "dtype: float64\n"
     ]
    }
   ],
   "source": [
    "#looped through the list of dataframes and printed out the percentage of missing values for each dataframe\n",
    "year= 2010\n",
    "for data in data_list:\n",
    "    print('-----------------------------------------------------')\n",
    "    print(year)\n",
    "    print((data.isnull().sum())/data.shape[0])\n",
    "    year+=1"
   ]
  },
  {
   "cell_type": "code",
   "execution_count": 7,
   "metadata": {},
   "outputs": [
    {
     "data": {
      "text/html": [
       "<div>\n",
       "<style scoped>\n",
       "    .dataframe tbody tr th:only-of-type {\n",
       "        vertical-align: middle;\n",
       "    }\n",
       "\n",
       "    .dataframe tbody tr th {\n",
       "        vertical-align: top;\n",
       "    }\n",
       "\n",
       "    .dataframe thead th {\n",
       "        text-align: right;\n",
       "    }\n",
       "</style>\n",
       "<table border=\"1\" class=\"dataframe\">\n",
       "  <thead>\n",
       "    <tr style=\"text-align: right;\">\n",
       "      <th></th>\n",
       "      <th>Date</th>\n",
       "      <th>Bel Air</th>\n",
       "      <th>Bd. Rép.</th>\n",
       "    </tr>\n",
       "  </thead>\n",
       "  <tbody>\n",
       "    <tr>\n",
       "      <td>0</td>\n",
       "      <td>2010-01-01 00:00:00</td>\n",
       "      <td>39.45417</td>\n",
       "      <td>51.20833</td>\n",
       "    </tr>\n",
       "    <tr>\n",
       "      <td>1</td>\n",
       "      <td>2010-01-02 00:00:00</td>\n",
       "      <td>46.53334</td>\n",
       "      <td>49.66667</td>\n",
       "    </tr>\n",
       "    <tr>\n",
       "      <td>2</td>\n",
       "      <td>2010-01-03 00:00:00</td>\n",
       "      <td>37.02917</td>\n",
       "      <td>44.08333</td>\n",
       "    </tr>\n",
       "    <tr>\n",
       "      <td>3</td>\n",
       "      <td>2010-01-04 00:00:00</td>\n",
       "      <td>48.43750</td>\n",
       "      <td>49.04167</td>\n",
       "    </tr>\n",
       "    <tr>\n",
       "      <td>4</td>\n",
       "      <td>2010-01-05 00:00:00</td>\n",
       "      <td>39.79167</td>\n",
       "      <td>40.58333</td>\n",
       "    </tr>\n",
       "  </tbody>\n",
       "</table>\n",
       "</div>"
      ],
      "text/plain": [
       "                  Date   Bel Air  Bd. Rép.\n",
       "0  2010-01-01 00:00:00  39.45417  51.20833\n",
       "1  2010-01-02 00:00:00  46.53334  49.66667\n",
       "2  2010-01-03 00:00:00  37.02917  44.08333\n",
       "3  2010-01-04 00:00:00  48.43750  49.04167\n",
       "4  2010-01-05 00:00:00  39.79167  40.58333"
      ]
     },
     "execution_count": 7,
     "metadata": {},
     "output_type": "execute_result"
    }
   ],
   "source": [
    "data10.head()"
   ]
  },
  {
   "cell_type": "markdown",
   "metadata": {},
   "source": [
    "### 2.3 Partial filling of missing data\n",
    "\n",
    "I attempted to narrow down on the missing data by finding the average of the various stations for each data to cover up for the missing values"
   ]
  },
  {
   "cell_type": "code",
   "execution_count": 8,
   "metadata": {},
   "outputs": [],
   "source": [
    "#looped through the list of dataframes calculated the average across each row in each dataframe\n",
    "for data in data_list:\n",
    "    data['Avg']=data.mean(axis=1)"
   ]
  },
  {
   "cell_type": "code",
   "execution_count": 9,
   "metadata": {},
   "outputs": [],
   "source": [
    "#creating a new list of dataframes containing the Date and Avg as the columns\n",
    "new_data = [data[['Date','Avg']] for data in data_list]"
   ]
  },
  {
   "cell_type": "code",
   "execution_count": 10,
   "metadata": {},
   "outputs": [
    {
     "name": "stdout",
     "output_type": "stream",
     "text": [
      "-----------------------------------------------------\n",
      "2010\n",
      "Date    0.002710\n",
      "Avg     0.092141\n",
      "dtype: float64\n",
      "-----------------------------------------------------\n",
      "2011\n",
      "Date    0.00271\n",
      "Avg     0.00813\n",
      "dtype: float64\n",
      "-----------------------------------------------------\n",
      "2012\n",
      "Date    0.002703\n",
      "Avg     0.051351\n",
      "dtype: float64\n",
      "-----------------------------------------------------\n",
      "2013\n",
      "Date    0.002710\n",
      "Avg     0.146341\n",
      "dtype: float64\n",
      "-----------------------------------------------------\n",
      "2014\n",
      "Date    0.002710\n",
      "Avg     0.203252\n",
      "dtype: float64\n",
      "-----------------------------------------------------\n",
      "2015\n",
      "Date    0.002710\n",
      "Avg     0.401084\n",
      "dtype: float64\n",
      "-----------------------------------------------------\n",
      "2016\n",
      "Date    0.002703\n",
      "Avg     0.400000\n",
      "dtype: float64\n",
      "-----------------------------------------------------\n",
      "2017\n",
      "Date    0.002710\n",
      "Avg     0.663957\n",
      "dtype: float64\n",
      "-----------------------------------------------------\n",
      "2018\n",
      "Date    0.002710\n",
      "Avg     0.249322\n",
      "dtype: float64\n",
      "-----------------------------------------------------\n",
      "2019\n",
      "Date    0.010638\n",
      "Avg     0.010638\n",
      "dtype: float64\n"
     ]
    }
   ],
   "source": [
    "#looped through the list of dataframes and checked the percentage of missing values for each dataframe\n",
    "year= 2010\n",
    "for data in new_data:\n",
    "    print('-----------------------------------------------------')\n",
    "    print(year)\n",
    "    print((data.isnull().sum())/data.shape[0])\n",
    "    year+=1"
   ]
  },
  {
   "cell_type": "code",
   "execution_count": 11,
   "metadata": {},
   "outputs": [
    {
     "name": "stdout",
     "output_type": "stream",
     "text": [
      "-----------------------------------------------------\n",
      "2010\n",
      "              Avg\n",
      "count  335.000000\n",
      "mean    38.849239\n",
      "std     33.952282\n",
      "min      3.636364\n",
      "25%     23.522462\n",
      "50%     30.850000\n",
      "75%     40.222918\n",
      "max    293.500000\n",
      "-----------------------------------------------------\n",
      "2011\n",
      "              Avg\n",
      "count  366.000000\n",
      "mean    36.105559\n",
      "std     28.514244\n",
      "min      3.702381\n",
      "25%     19.807812\n",
      "50%     29.755662\n",
      "75%     43.579167\n",
      "max    338.000000\n",
      "-----------------------------------------------------\n",
      "2012\n",
      "              Avg\n",
      "count  351.000000\n",
      "mean    42.381152\n",
      "std     46.417888\n",
      "min      5.080000\n",
      "25%     17.939300\n",
      "50%     27.665000\n",
      "75%     49.908575\n",
      "max    384.822100\n",
      "-----------------------------------------------------\n",
      "2013\n",
      "              Avg\n",
      "count  315.000000\n",
      "mean    34.219813\n",
      "std     33.580553\n",
      "min      0.625000\n",
      "25%     17.304195\n",
      "50%     24.499640\n",
      "75%     34.156345\n",
      "max    265.000000\n",
      "-----------------------------------------------------\n",
      "2014\n",
      "              Avg\n",
      "count  294.000000\n",
      "mean    28.804816\n",
      "std     32.801627\n",
      "min      0.777778\n",
      "25%     10.629675\n",
      "50%     20.750000\n",
      "75%     34.822918\n",
      "max    291.000000\n",
      "-----------------------------------------------------\n",
      "2015\n",
      "              Avg\n",
      "count  221.000000\n",
      "mean    39.473890\n",
      "std     46.264678\n",
      "min      4.200000\n",
      "25%     15.125545\n",
      "50%     22.441665\n",
      "75%     44.937500\n",
      "max    275.083300\n",
      "-----------------------------------------------------\n",
      "2016\n",
      "              Avg\n",
      "count  222.000000\n",
      "mean    27.261489\n",
      "std     27.523410\n",
      "min      4.333333\n",
      "25%     12.932290\n",
      "50%     18.277500\n",
      "75%     30.286670\n",
      "max    219.000000\n",
      "-----------------------------------------------------\n",
      "2017\n",
      "              Avg\n",
      "count  124.000000\n",
      "mean    31.034078\n",
      "std     41.771713\n",
      "min     11.057140\n",
      "25%     16.163043\n",
      "50%     19.136700\n",
      "75%     27.981250\n",
      "max    271.700000\n",
      "-----------------------------------------------------\n",
      "2018\n",
      "              Avg\n",
      "count  277.000000\n",
      "mean    58.082485\n",
      "std     55.417870\n",
      "min     10.000000\n",
      "25%     30.330000\n",
      "50%     44.950000\n",
      "75%     65.000000\n",
      "max    543.390000\n",
      "-----------------------------------------------------\n",
      "2019\n",
      "              Avg\n",
      "count   93.000000\n",
      "mean    90.386124\n",
      "std     71.781819\n",
      "min     20.160000\n",
      "25%     45.340000\n",
      "50%     66.710000\n",
      "75%    114.520000\n",
      "max    393.490000\n"
     ]
    }
   ],
   "source": [
    "#looped through the list of dataframes and printed out the descriptive statistics for each dataframe\n",
    "year= 2010\n",
    "for data in new_data:\n",
    "    print('-----------------------------------------------------')\n",
    "    print(year)\n",
    "    print(data.describe())\n",
    "    year+=1"
   ]
  },
  {
   "cell_type": "code",
   "execution_count": 12,
   "metadata": {},
   "outputs": [],
   "source": [
    "# sliced the last 4 rows of each of the dataframes\n",
    "new_data = [data[:-4] for data in new_data]"
   ]
  },
  {
   "cell_type": "code",
   "execution_count": 13,
   "metadata": {},
   "outputs": [],
   "source": [
    "#combine the dataframes into one dataframe\n",
    "pm_data = pd.concat(new_data, ignore_index=True)"
   ]
  },
  {
   "cell_type": "code",
   "execution_count": 14,
   "metadata": {},
   "outputs": [
    {
     "data": {
      "text/plain": [
       "Date    0.000000\n",
       "Avg     0.239562\n",
       "dtype: float64"
      ]
     },
     "execution_count": 14,
     "metadata": {},
     "output_type": "execute_result"
    }
   ],
   "source": [
    "#checking for the percentage of missing values\n",
    "pm_data.isnull().sum()/pm_data.shape[0]"
   ]
  },
  {
   "cell_type": "code",
   "execution_count": 15,
   "metadata": {},
   "outputs": [
    {
     "data": {
      "text/html": [
       "<div>\n",
       "<style scoped>\n",
       "    .dataframe tbody tr th:only-of-type {\n",
       "        vertical-align: middle;\n",
       "    }\n",
       "\n",
       "    .dataframe tbody tr th {\n",
       "        vertical-align: top;\n",
       "    }\n",
       "\n",
       "    .dataframe thead th {\n",
       "        text-align: right;\n",
       "    }\n",
       "</style>\n",
       "<table border=\"1\" class=\"dataframe\">\n",
       "  <thead>\n",
       "    <tr style=\"text-align: right;\">\n",
       "      <th></th>\n",
       "      <th>Date</th>\n",
       "      <th>Avg</th>\n",
       "    </tr>\n",
       "  </thead>\n",
       "  <tbody>\n",
       "    <tr>\n",
       "      <td>0</td>\n",
       "      <td>2010-01-01 00:00:00</td>\n",
       "      <td>45.331250</td>\n",
       "    </tr>\n",
       "    <tr>\n",
       "      <td>1</td>\n",
       "      <td>2010-01-02 00:00:00</td>\n",
       "      <td>48.100005</td>\n",
       "    </tr>\n",
       "    <tr>\n",
       "      <td>2</td>\n",
       "      <td>2010-01-03 00:00:00</td>\n",
       "      <td>40.556250</td>\n",
       "    </tr>\n",
       "    <tr>\n",
       "      <td>3</td>\n",
       "      <td>2010-01-04 00:00:00</td>\n",
       "      <td>48.739585</td>\n",
       "    </tr>\n",
       "    <tr>\n",
       "      <td>4</td>\n",
       "      <td>2010-01-05 00:00:00</td>\n",
       "      <td>40.187500</td>\n",
       "    </tr>\n",
       "  </tbody>\n",
       "</table>\n",
       "</div>"
      ],
      "text/plain": [
       "                  Date        Avg\n",
       "0  2010-01-01 00:00:00  45.331250\n",
       "1  2010-01-02 00:00:00  48.100005\n",
       "2  2010-01-03 00:00:00  40.556250\n",
       "3  2010-01-04 00:00:00  48.739585\n",
       "4  2010-01-05 00:00:00  40.187500"
      ]
     },
     "execution_count": 15,
     "metadata": {},
     "output_type": "execute_result"
    }
   ],
   "source": [
    "#view the top 5 rows\n",
    "pm_data.head()"
   ]
  },
  {
   "cell_type": "code",
   "execution_count": 16,
   "metadata": {},
   "outputs": [],
   "source": [
    "#converting the Date column to datetime\n",
    "pm_data['Date'] = pd.to_datetime(pm_data.Date) "
   ]
  },
  {
   "cell_type": "markdown",
   "metadata": {},
   "source": [
    "### 3.0 Loading the 2nd dataset"
   ]
  },
  {
   "cell_type": "code",
   "execution_count": 17,
   "metadata": {},
   "outputs": [],
   "source": [
    "#loading the weather data\n",
    "weather = pd.read_csv('GOSS.txt', sep=',', parse_dates=['valid'], index_col='valid')"
   ]
  },
  {
   "cell_type": "markdown",
   "metadata": {},
   "source": [
    "### 3.1 Exploring the 2nd dataset\n",
    "\n",
    "This includes\n",
    "- Looking at the top rows\n",
    "- Data types\n",
    "- Missing values\n",
    "- Dropping missing values"
   ]
  },
  {
   "cell_type": "code",
   "execution_count": 19,
   "metadata": {},
   "outputs": [
    {
     "data": {
      "text/html": [
       "<div>\n",
       "<style scoped>\n",
       "    .dataframe tbody tr th:only-of-type {\n",
       "        vertical-align: middle;\n",
       "    }\n",
       "\n",
       "    .dataframe tbody tr th {\n",
       "        vertical-align: top;\n",
       "    }\n",
       "\n",
       "    .dataframe thead th {\n",
       "        text-align: right;\n",
       "    }\n",
       "</style>\n",
       "<table border=\"1\" class=\"dataframe\">\n",
       "  <thead>\n",
       "    <tr style=\"text-align: right;\">\n",
       "      <th></th>\n",
       "      <th>station</th>\n",
       "      <th>tmpf</th>\n",
       "      <th>dwpf</th>\n",
       "      <th>relh</th>\n",
       "      <th>drct</th>\n",
       "      <th>sknt</th>\n",
       "      <th>p01i</th>\n",
       "      <th>alti</th>\n",
       "      <th>mslp</th>\n",
       "      <th>vsby</th>\n",
       "      <th>...</th>\n",
       "      <th>skyl4</th>\n",
       "      <th>wxcodes</th>\n",
       "      <th>ice_accretion_1hr</th>\n",
       "      <th>ice_accretion_3hr</th>\n",
       "      <th>ice_accretion_6hr</th>\n",
       "      <th>peak_wind_gust</th>\n",
       "      <th>peak_wind_drct</th>\n",
       "      <th>peak_wind_time</th>\n",
       "      <th>feel</th>\n",
       "      <th>metar</th>\n",
       "    </tr>\n",
       "    <tr>\n",
       "      <th>valid</th>\n",
       "      <th></th>\n",
       "      <th></th>\n",
       "      <th></th>\n",
       "      <th></th>\n",
       "      <th></th>\n",
       "      <th></th>\n",
       "      <th></th>\n",
       "      <th></th>\n",
       "      <th></th>\n",
       "      <th></th>\n",
       "      <th></th>\n",
       "      <th></th>\n",
       "      <th></th>\n",
       "      <th></th>\n",
       "      <th></th>\n",
       "      <th></th>\n",
       "      <th></th>\n",
       "      <th></th>\n",
       "      <th></th>\n",
       "      <th></th>\n",
       "      <th></th>\n",
       "    </tr>\n",
       "  </thead>\n",
       "  <tbody>\n",
       "    <tr>\n",
       "      <td>2011-08-22 19:30:00</td>\n",
       "      <td>GOOY</td>\n",
       "      <td>80.6</td>\n",
       "      <td>75.2</td>\n",
       "      <td>83.66</td>\n",
       "      <td>320.0</td>\n",
       "      <td>6.0</td>\n",
       "      <td>NaN</td>\n",
       "      <td>29.74</td>\n",
       "      <td>NaN</td>\n",
       "      <td>6.21</td>\n",
       "      <td>...</td>\n",
       "      <td>NaN</td>\n",
       "      <td>NaN</td>\n",
       "      <td>NaN</td>\n",
       "      <td>NaN</td>\n",
       "      <td>NaN</td>\n",
       "      <td>NaN</td>\n",
       "      <td>NaN</td>\n",
       "      <td>NaN</td>\n",
       "      <td>86.17</td>\n",
       "      <td>GOOY 221930Z 32006KT 270V350 9999 BKN013 SCT13...</td>\n",
       "    </tr>\n",
       "    <tr>\n",
       "      <td>2011-08-22 20:00:00</td>\n",
       "      <td>GOOY</td>\n",
       "      <td>80.6</td>\n",
       "      <td>75.2</td>\n",
       "      <td>83.66</td>\n",
       "      <td>330.0</td>\n",
       "      <td>6.0</td>\n",
       "      <td>NaN</td>\n",
       "      <td>29.74</td>\n",
       "      <td>NaN</td>\n",
       "      <td>6.21</td>\n",
       "      <td>...</td>\n",
       "      <td>NaN</td>\n",
       "      <td>NaN</td>\n",
       "      <td>NaN</td>\n",
       "      <td>NaN</td>\n",
       "      <td>NaN</td>\n",
       "      <td>NaN</td>\n",
       "      <td>NaN</td>\n",
       "      <td>NaN</td>\n",
       "      <td>86.17</td>\n",
       "      <td>GOOY 222000Z 33006KT 9999 BKN013 SCT130 27/24 ...</td>\n",
       "    </tr>\n",
       "    <tr>\n",
       "      <td>2011-08-22 20:30:00</td>\n",
       "      <td>GOOY</td>\n",
       "      <td>80.6</td>\n",
       "      <td>75.2</td>\n",
       "      <td>83.66</td>\n",
       "      <td>330.0</td>\n",
       "      <td>5.0</td>\n",
       "      <td>NaN</td>\n",
       "      <td>29.74</td>\n",
       "      <td>NaN</td>\n",
       "      <td>6.21</td>\n",
       "      <td>...</td>\n",
       "      <td>NaN</td>\n",
       "      <td>NaN</td>\n",
       "      <td>NaN</td>\n",
       "      <td>NaN</td>\n",
       "      <td>NaN</td>\n",
       "      <td>NaN</td>\n",
       "      <td>NaN</td>\n",
       "      <td>NaN</td>\n",
       "      <td>86.17</td>\n",
       "      <td>GOOY 222030Z 33005KT 9999 SCT013 SCT130 27/24 ...</td>\n",
       "    </tr>\n",
       "    <tr>\n",
       "      <td>2011-08-22 21:00:00</td>\n",
       "      <td>GOOY</td>\n",
       "      <td>80.6</td>\n",
       "      <td>75.2</td>\n",
       "      <td>83.66</td>\n",
       "      <td>320.0</td>\n",
       "      <td>4.0</td>\n",
       "      <td>NaN</td>\n",
       "      <td>29.74</td>\n",
       "      <td>NaN</td>\n",
       "      <td>6.21</td>\n",
       "      <td>...</td>\n",
       "      <td>NaN</td>\n",
       "      <td>NaN</td>\n",
       "      <td>NaN</td>\n",
       "      <td>NaN</td>\n",
       "      <td>NaN</td>\n",
       "      <td>NaN</td>\n",
       "      <td>NaN</td>\n",
       "      <td>NaN</td>\n",
       "      <td>86.17</td>\n",
       "      <td>GOOY 222100Z 32004KT 9999 SCT013 SCT130 27/24 ...</td>\n",
       "    </tr>\n",
       "    <tr>\n",
       "      <td>2011-08-22 21:30:00</td>\n",
       "      <td>GOOY</td>\n",
       "      <td>80.6</td>\n",
       "      <td>75.2</td>\n",
       "      <td>83.66</td>\n",
       "      <td>0.0</td>\n",
       "      <td>3.0</td>\n",
       "      <td>NaN</td>\n",
       "      <td>29.77</td>\n",
       "      <td>NaN</td>\n",
       "      <td>6.21</td>\n",
       "      <td>...</td>\n",
       "      <td>NaN</td>\n",
       "      <td>NaN</td>\n",
       "      <td>NaN</td>\n",
       "      <td>NaN</td>\n",
       "      <td>NaN</td>\n",
       "      <td>NaN</td>\n",
       "      <td>NaN</td>\n",
       "      <td>NaN</td>\n",
       "      <td>86.17</td>\n",
       "      <td>GOOY 222130Z VRB03KT 9999 FEW013 BKN230 27/24 ...</td>\n",
       "    </tr>\n",
       "  </tbody>\n",
       "</table>\n",
       "<p>5 rows × 28 columns</p>\n",
       "</div>"
      ],
      "text/plain": [
       "                    station  tmpf  dwpf   relh   drct  sknt  p01i   alti  \\\n",
       "valid                                                                      \n",
       "2011-08-22 19:30:00    GOOY  80.6  75.2  83.66  320.0   6.0   NaN  29.74   \n",
       "2011-08-22 20:00:00    GOOY  80.6  75.2  83.66  330.0   6.0   NaN  29.74   \n",
       "2011-08-22 20:30:00    GOOY  80.6  75.2  83.66  330.0   5.0   NaN  29.74   \n",
       "2011-08-22 21:00:00    GOOY  80.6  75.2  83.66  320.0   4.0   NaN  29.74   \n",
       "2011-08-22 21:30:00    GOOY  80.6  75.2  83.66    0.0   3.0   NaN  29.77   \n",
       "\n",
       "                     mslp  vsby  ...  skyl4 wxcodes ice_accretion_1hr  \\\n",
       "valid                            ...                                    \n",
       "2011-08-22 19:30:00   NaN  6.21  ...    NaN     NaN               NaN   \n",
       "2011-08-22 20:00:00   NaN  6.21  ...    NaN     NaN               NaN   \n",
       "2011-08-22 20:30:00   NaN  6.21  ...    NaN     NaN               NaN   \n",
       "2011-08-22 21:00:00   NaN  6.21  ...    NaN     NaN               NaN   \n",
       "2011-08-22 21:30:00   NaN  6.21  ...    NaN     NaN               NaN   \n",
       "\n",
       "                    ice_accretion_3hr ice_accretion_6hr  peak_wind_gust  \\\n",
       "valid                                                                     \n",
       "2011-08-22 19:30:00               NaN               NaN             NaN   \n",
       "2011-08-22 20:00:00               NaN               NaN             NaN   \n",
       "2011-08-22 20:30:00               NaN               NaN             NaN   \n",
       "2011-08-22 21:00:00               NaN               NaN             NaN   \n",
       "2011-08-22 21:30:00               NaN               NaN             NaN   \n",
       "\n",
       "                     peak_wind_drct  peak_wind_time   feel  \\\n",
       "valid                                                        \n",
       "2011-08-22 19:30:00             NaN             NaN  86.17   \n",
       "2011-08-22 20:00:00             NaN             NaN  86.17   \n",
       "2011-08-22 20:30:00             NaN             NaN  86.17   \n",
       "2011-08-22 21:00:00             NaN             NaN  86.17   \n",
       "2011-08-22 21:30:00             NaN             NaN  86.17   \n",
       "\n",
       "                                                                 metar  \n",
       "valid                                                                   \n",
       "2011-08-22 19:30:00  GOOY 221930Z 32006KT 270V350 9999 BKN013 SCT13...  \n",
       "2011-08-22 20:00:00  GOOY 222000Z 33006KT 9999 BKN013 SCT130 27/24 ...  \n",
       "2011-08-22 20:30:00  GOOY 222030Z 33005KT 9999 SCT013 SCT130 27/24 ...  \n",
       "2011-08-22 21:00:00  GOOY 222100Z 32004KT 9999 SCT013 SCT130 27/24 ...  \n",
       "2011-08-22 21:30:00  GOOY 222130Z VRB03KT 9999 FEW013 BKN230 27/24 ...  \n",
       "\n",
       "[5 rows x 28 columns]"
      ]
     },
     "execution_count": 19,
     "metadata": {},
     "output_type": "execute_result"
    }
   ],
   "source": [
    "weather.head()"
   ]
  },
  {
   "cell_type": "code",
   "execution_count": 20,
   "metadata": {},
   "outputs": [
    {
     "data": {
      "text/plain": [
       "station               object\n",
       "tmpf                 float64\n",
       "dwpf                 float64\n",
       "relh                 float64\n",
       "drct                 float64\n",
       "sknt                 float64\n",
       "p01i                 float64\n",
       "alti                 float64\n",
       "mslp                 float64\n",
       "vsby                 float64\n",
       "gust                 float64\n",
       "skyc1                 object\n",
       "skyc2                 object\n",
       "skyc3                 object\n",
       "skyc4                 object\n",
       "skyl1                float64\n",
       "skyl2                float64\n",
       "skyl3                float64\n",
       "skyl4                float64\n",
       "wxcodes               object\n",
       "ice_accretion_1hr    float64\n",
       "ice_accretion_3hr    float64\n",
       "ice_accretion_6hr    float64\n",
       "peak_wind_gust       float64\n",
       "peak_wind_drct       float64\n",
       "peak_wind_time       float64\n",
       "feel                 float64\n",
       "metar                 object\n",
       "dtype: object"
      ]
     },
     "execution_count": 20,
     "metadata": {},
     "output_type": "execute_result"
    }
   ],
   "source": [
    "#checking the datatypes\n",
    "weather.dtypes"
   ]
  },
  {
   "cell_type": "code",
   "execution_count": 21,
   "metadata": {},
   "outputs": [
    {
     "data": {
      "text/plain": [
       "station              0.000000\n",
       "tmpf                 0.001628\n",
       "dwpf                 0.001728\n",
       "relh                 0.002592\n",
       "drct                 0.033530\n",
       "sknt                 0.001338\n",
       "p01i                 0.100148\n",
       "alti                 0.001575\n",
       "mslp                 1.000000\n",
       "vsby                 0.001269\n",
       "gust                 0.974848\n",
       "skyc1                0.358085\n",
       "skyc2                0.785432\n",
       "skyc3                0.869648\n",
       "skyc4                0.894532\n",
       "skyl1                0.584885\n",
       "skyl2                0.878003\n",
       "skyl3                0.970338\n",
       "skyl4                0.997814\n",
       "wxcodes              0.942060\n",
       "ice_accretion_1hr    1.000000\n",
       "ice_accretion_3hr    1.000000\n",
       "ice_accretion_6hr    1.000000\n",
       "peak_wind_gust       1.000000\n",
       "peak_wind_drct       1.000000\n",
       "peak_wind_time       1.000000\n",
       "feel                 0.008149\n",
       "metar                0.000000\n",
       "dtype: float64"
      ]
     },
     "execution_count": 21,
     "metadata": {},
     "output_type": "execute_result"
    }
   ],
   "source": [
    "#checking for the percentage of missing values\n",
    "weather.isnull().sum()/weather.shape[0]"
   ]
  },
  {
   "cell_type": "code",
   "execution_count": 23,
   "metadata": {},
   "outputs": [],
   "source": [
    "#creating a list of columns to be maintained in the dataframe\n",
    "cols = ['tmpf', 'dwpf', 'relh', 'drct', 'sknt',\n",
    "       'alti', 'vsby', 'feel']"
   ]
  },
  {
   "cell_type": "code",
   "execution_count": 24,
   "metadata": {},
   "outputs": [],
   "source": [
    "# overwriting the weather dataframe, keeping the specified colums\n",
    "weather = weather[cols]"
   ]
  },
  {
   "cell_type": "code",
   "execution_count": 25,
   "metadata": {},
   "outputs": [
    {
     "data": {
      "text/html": [
       "<div>\n",
       "<style scoped>\n",
       "    .dataframe tbody tr th:only-of-type {\n",
       "        vertical-align: middle;\n",
       "    }\n",
       "\n",
       "    .dataframe tbody tr th {\n",
       "        vertical-align: top;\n",
       "    }\n",
       "\n",
       "    .dataframe thead th {\n",
       "        text-align: right;\n",
       "    }\n",
       "</style>\n",
       "<table border=\"1\" class=\"dataframe\">\n",
       "  <thead>\n",
       "    <tr style=\"text-align: right;\">\n",
       "      <th></th>\n",
       "      <th>tmpf</th>\n",
       "      <th>dwpf</th>\n",
       "      <th>relh</th>\n",
       "      <th>drct</th>\n",
       "      <th>sknt</th>\n",
       "      <th>alti</th>\n",
       "      <th>vsby</th>\n",
       "      <th>feel</th>\n",
       "    </tr>\n",
       "    <tr>\n",
       "      <th>valid</th>\n",
       "      <th></th>\n",
       "      <th></th>\n",
       "      <th></th>\n",
       "      <th></th>\n",
       "      <th></th>\n",
       "      <th></th>\n",
       "      <th></th>\n",
       "      <th></th>\n",
       "    </tr>\n",
       "  </thead>\n",
       "  <tbody>\n",
       "    <tr>\n",
       "      <td>2019-11-27 18:00:00</td>\n",
       "      <td>75.2</td>\n",
       "      <td>69.8</td>\n",
       "      <td>83.32</td>\n",
       "      <td>360.0</td>\n",
       "      <td>16.0</td>\n",
       "      <td>29.85</td>\n",
       "      <td>6.21</td>\n",
       "      <td>NaN</td>\n",
       "    </tr>\n",
       "    <tr>\n",
       "      <td>2019-11-27 19:00:00</td>\n",
       "      <td>73.4</td>\n",
       "      <td>69.8</td>\n",
       "      <td>88.51</td>\n",
       "      <td>360.0</td>\n",
       "      <td>12.0</td>\n",
       "      <td>29.88</td>\n",
       "      <td>6.21</td>\n",
       "      <td>NaN</td>\n",
       "    </tr>\n",
       "    <tr>\n",
       "      <td>2019-11-27 21:00:00</td>\n",
       "      <td>73.4</td>\n",
       "      <td>69.8</td>\n",
       "      <td>88.51</td>\n",
       "      <td>360.0</td>\n",
       "      <td>14.0</td>\n",
       "      <td>29.91</td>\n",
       "      <td>4.97</td>\n",
       "      <td>NaN</td>\n",
       "    </tr>\n",
       "    <tr>\n",
       "      <td>2019-11-27 22:00:00</td>\n",
       "      <td>73.4</td>\n",
       "      <td>69.8</td>\n",
       "      <td>88.51</td>\n",
       "      <td>360.0</td>\n",
       "      <td>14.0</td>\n",
       "      <td>29.91</td>\n",
       "      <td>4.97</td>\n",
       "      <td>NaN</td>\n",
       "    </tr>\n",
       "    <tr>\n",
       "      <td>2019-11-27 23:00:00</td>\n",
       "      <td>73.4</td>\n",
       "      <td>69.8</td>\n",
       "      <td>88.51</td>\n",
       "      <td>360.0</td>\n",
       "      <td>12.0</td>\n",
       "      <td>29.91</td>\n",
       "      <td>4.97</td>\n",
       "      <td>NaN</td>\n",
       "    </tr>\n",
       "  </tbody>\n",
       "</table>\n",
       "</div>"
      ],
      "text/plain": [
       "                     tmpf  dwpf   relh   drct  sknt   alti  vsby  feel\n",
       "valid                                                                 \n",
       "2019-11-27 18:00:00  75.2  69.8  83.32  360.0  16.0  29.85  6.21   NaN\n",
       "2019-11-27 19:00:00  73.4  69.8  88.51  360.0  12.0  29.88  6.21   NaN\n",
       "2019-11-27 21:00:00  73.4  69.8  88.51  360.0  14.0  29.91  4.97   NaN\n",
       "2019-11-27 22:00:00  73.4  69.8  88.51  360.0  14.0  29.91  4.97   NaN\n",
       "2019-11-27 23:00:00  73.4  69.8  88.51  360.0  12.0  29.91  4.97   NaN"
      ]
     },
     "execution_count": 25,
     "metadata": {},
     "output_type": "execute_result"
    }
   ],
   "source": [
    "# veiwing the bottom 5 columns\n",
    "weather.tail()"
   ]
  },
  {
   "cell_type": "markdown",
   "metadata": {},
   "source": [
    "### 3.2 Resampling the data\n",
    "\n",
    "This dataset contained multiple records at differnt hours of the day. Here I resampled the day at a daily frequency"
   ]
  },
  {
   "cell_type": "code",
   "execution_count": 26,
   "metadata": {},
   "outputs": [],
   "source": [
    "# resampling on a daily frequency\n",
    "weather = weather.resample('d').mean()"
   ]
  },
  {
   "cell_type": "code",
   "execution_count": 27,
   "metadata": {},
   "outputs": [
    {
     "data": {
      "text/plain": [
       "(3020, 8)"
      ]
     },
     "execution_count": 27,
     "metadata": {},
     "output_type": "execute_result"
    }
   ],
   "source": [
    "#checking the dimensions of the weather dataframe\n",
    "weather.shape"
   ]
  },
  {
   "cell_type": "markdown",
   "metadata": {},
   "source": [
    "### 4.0 Merging the datasets\n",
    "\n",
    "Performed an outer merge on the PM2.5 pollution data and the weather data"
   ]
  },
  {
   "cell_type": "code",
   "execution_count": 29,
   "metadata": {},
   "outputs": [],
   "source": [
    "#Merging the 2 dataframes\n",
    "data = pd.merge(pm_data, weather, how='outer', left_on='Date', right_on='valid',suffixes=('','_weather'))"
   ]
  },
  {
   "cell_type": "markdown",
   "metadata": {},
   "source": [
    "### 4.1 Handling missing values"
   ]
  },
  {
   "cell_type": "code",
   "execution_count": 30,
   "metadata": {},
   "outputs": [],
   "source": [
    "#looped through the columns and forward filled the missing values\n",
    "cols = data.columns\n",
    "for col in cols:\n",
    "    data[col] = data[col].fillna(method='ffill')"
   ]
  },
  {
   "cell_type": "code",
   "execution_count": 83,
   "metadata": {},
   "outputs": [
    {
     "data": {
      "text/plain": [
       "Date     0.0\n",
       "Avg      0.0\n",
       "tmpf     0.0\n",
       "dwpf     0.0\n",
       "relh     0.0\n",
       "drct     0.0\n",
       "sknt     0.0\n",
       "alti     0.0\n",
       "vsby     0.0\n",
       "feel     0.0\n",
       "year     0.0\n",
       "month    0.0\n",
       "day      0.0\n",
       "dtype: float64"
      ]
     },
     "execution_count": 83,
     "metadata": {},
     "output_type": "execute_result"
    }
   ],
   "source": [
    "data.isnull().sum()/data.shape[0]"
   ]
  },
  {
   "cell_type": "code",
   "execution_count": 235,
   "metadata": {},
   "outputs": [],
   "source": [
    "'''cols = data.columns\n",
    "for col in cols:\n",
    "    data[col] = data[col].fillna(data[col].mean())'''"
   ]
  },
  {
   "cell_type": "code",
   "execution_count": 32,
   "metadata": {},
   "outputs": [
    {
     "data": {
      "text/html": [
       "<div>\n",
       "<style scoped>\n",
       "    .dataframe tbody tr th:only-of-type {\n",
       "        vertical-align: middle;\n",
       "    }\n",
       "\n",
       "    .dataframe tbody tr th {\n",
       "        vertical-align: top;\n",
       "    }\n",
       "\n",
       "    .dataframe thead th {\n",
       "        text-align: right;\n",
       "    }\n",
       "</style>\n",
       "<table border=\"1\" class=\"dataframe\">\n",
       "  <thead>\n",
       "    <tr style=\"text-align: right;\">\n",
       "      <th></th>\n",
       "      <th>Date</th>\n",
       "      <th>Avg</th>\n",
       "      <th>tmpf</th>\n",
       "      <th>dwpf</th>\n",
       "      <th>relh</th>\n",
       "      <th>drct</th>\n",
       "      <th>sknt</th>\n",
       "      <th>alti</th>\n",
       "      <th>vsby</th>\n",
       "      <th>feel</th>\n",
       "    </tr>\n",
       "  </thead>\n",
       "  <tbody>\n",
       "    <tr>\n",
       "      <td>0</td>\n",
       "      <td>2010-01-01</td>\n",
       "      <td>45.331250</td>\n",
       "      <td>NaN</td>\n",
       "      <td>NaN</td>\n",
       "      <td>NaN</td>\n",
       "      <td>NaN</td>\n",
       "      <td>NaN</td>\n",
       "      <td>NaN</td>\n",
       "      <td>NaN</td>\n",
       "      <td>NaN</td>\n",
       "    </tr>\n",
       "    <tr>\n",
       "      <td>1</td>\n",
       "      <td>2010-01-02</td>\n",
       "      <td>48.100005</td>\n",
       "      <td>NaN</td>\n",
       "      <td>NaN</td>\n",
       "      <td>NaN</td>\n",
       "      <td>NaN</td>\n",
       "      <td>NaN</td>\n",
       "      <td>NaN</td>\n",
       "      <td>NaN</td>\n",
       "      <td>NaN</td>\n",
       "    </tr>\n",
       "    <tr>\n",
       "      <td>2</td>\n",
       "      <td>2010-01-03</td>\n",
       "      <td>40.556250</td>\n",
       "      <td>NaN</td>\n",
       "      <td>NaN</td>\n",
       "      <td>NaN</td>\n",
       "      <td>NaN</td>\n",
       "      <td>NaN</td>\n",
       "      <td>NaN</td>\n",
       "      <td>NaN</td>\n",
       "      <td>NaN</td>\n",
       "    </tr>\n",
       "    <tr>\n",
       "      <td>3</td>\n",
       "      <td>2010-01-04</td>\n",
       "      <td>48.739585</td>\n",
       "      <td>NaN</td>\n",
       "      <td>NaN</td>\n",
       "      <td>NaN</td>\n",
       "      <td>NaN</td>\n",
       "      <td>NaN</td>\n",
       "      <td>NaN</td>\n",
       "      <td>NaN</td>\n",
       "      <td>NaN</td>\n",
       "    </tr>\n",
       "    <tr>\n",
       "      <td>4</td>\n",
       "      <td>2010-01-05</td>\n",
       "      <td>40.187500</td>\n",
       "      <td>NaN</td>\n",
       "      <td>NaN</td>\n",
       "      <td>NaN</td>\n",
       "      <td>NaN</td>\n",
       "      <td>NaN</td>\n",
       "      <td>NaN</td>\n",
       "      <td>NaN</td>\n",
       "      <td>NaN</td>\n",
       "    </tr>\n",
       "  </tbody>\n",
       "</table>\n",
       "</div>"
      ],
      "text/plain": [
       "        Date        Avg  tmpf  dwpf  relh  drct  sknt  alti  vsby  feel\n",
       "0 2010-01-01  45.331250   NaN   NaN   NaN   NaN   NaN   NaN   NaN   NaN\n",
       "1 2010-01-02  48.100005   NaN   NaN   NaN   NaN   NaN   NaN   NaN   NaN\n",
       "2 2010-01-03  40.556250   NaN   NaN   NaN   NaN   NaN   NaN   NaN   NaN\n",
       "3 2010-01-04  48.739585   NaN   NaN   NaN   NaN   NaN   NaN   NaN   NaN\n",
       "4 2010-01-05  40.187500   NaN   NaN   NaN   NaN   NaN   NaN   NaN   NaN"
      ]
     },
     "execution_count": 32,
     "metadata": {},
     "output_type": "execute_result"
    }
   ],
   "source": [
    "data.head()"
   ]
  },
  {
   "cell_type": "code",
   "execution_count": 49,
   "metadata": {},
   "outputs": [],
   "source": [
    "#dropped all rows that contain missing values\n",
    "data.dropna(inplace=True)"
   ]
  },
  {
   "cell_type": "code",
   "execution_count": 101,
   "metadata": {},
   "outputs": [
    {
     "data": {
      "text/html": [
       "<div>\n",
       "<style scoped>\n",
       "    .dataframe tbody tr th:only-of-type {\n",
       "        vertical-align: middle;\n",
       "    }\n",
       "\n",
       "    .dataframe tbody tr th {\n",
       "        vertical-align: top;\n",
       "    }\n",
       "\n",
       "    .dataframe thead th {\n",
       "        text-align: right;\n",
       "    }\n",
       "</style>\n",
       "<table border=\"1\" class=\"dataframe\">\n",
       "  <thead>\n",
       "    <tr style=\"text-align: right;\">\n",
       "      <th></th>\n",
       "      <th>Date</th>\n",
       "      <th>Avg</th>\n",
       "      <th>tmpf</th>\n",
       "      <th>dwpf</th>\n",
       "      <th>relh</th>\n",
       "      <th>drct</th>\n",
       "      <th>sknt</th>\n",
       "      <th>alti</th>\n",
       "      <th>vsby</th>\n",
       "      <th>feel</th>\n",
       "      <th>year</th>\n",
       "      <th>month</th>\n",
       "      <th>day</th>\n",
       "    </tr>\n",
       "  </thead>\n",
       "  <tbody>\n",
       "    <tr>\n",
       "      <td>598</td>\n",
       "      <td>2011-08-22</td>\n",
       "      <td>20.572025</td>\n",
       "      <td>80.600000</td>\n",
       "      <td>75.200000</td>\n",
       "      <td>83.660000</td>\n",
       "      <td>250.000000</td>\n",
       "      <td>4.666667</td>\n",
       "      <td>29.763333</td>\n",
       "      <td>6.210000</td>\n",
       "      <td>86.170000</td>\n",
       "      <td>2011</td>\n",
       "      <td>8</td>\n",
       "      <td>22</td>\n",
       "    </tr>\n",
       "    <tr>\n",
       "      <td>599</td>\n",
       "      <td>2011-08-23</td>\n",
       "      <td>13.958150</td>\n",
       "      <td>81.270588</td>\n",
       "      <td>75.411765</td>\n",
       "      <td>82.781961</td>\n",
       "      <td>122.941176</td>\n",
       "      <td>11.588235</td>\n",
       "      <td>29.798431</td>\n",
       "      <td>5.942549</td>\n",
       "      <td>87.272549</td>\n",
       "      <td>2011</td>\n",
       "      <td>8</td>\n",
       "      <td>23</td>\n",
       "    </tr>\n",
       "    <tr>\n",
       "      <td>600</td>\n",
       "      <td>2011-08-24</td>\n",
       "      <td>9.764131</td>\n",
       "      <td>82.603774</td>\n",
       "      <td>75.743396</td>\n",
       "      <td>80.028519</td>\n",
       "      <td>156.545455</td>\n",
       "      <td>6.849057</td>\n",
       "      <td>29.892453</td>\n",
       "      <td>2.271455</td>\n",
       "      <td>90.058704</td>\n",
       "      <td>2011</td>\n",
       "      <td>8</td>\n",
       "      <td>24</td>\n",
       "    </tr>\n",
       "    <tr>\n",
       "      <td>601</td>\n",
       "      <td>2011-08-25</td>\n",
       "      <td>12.677749</td>\n",
       "      <td>79.512500</td>\n",
       "      <td>75.350000</td>\n",
       "      <td>87.215833</td>\n",
       "      <td>154.230769</td>\n",
       "      <td>3.875000</td>\n",
       "      <td>29.954375</td>\n",
       "      <td>-2.246923</td>\n",
       "      <td>84.032083</td>\n",
       "      <td>2011</td>\n",
       "      <td>8</td>\n",
       "      <td>25</td>\n",
       "    </tr>\n",
       "    <tr>\n",
       "      <td>602</td>\n",
       "      <td>2011-08-26</td>\n",
       "      <td>16.391300</td>\n",
       "      <td>79.683019</td>\n",
       "      <td>76.388679</td>\n",
       "      <td>89.905283</td>\n",
       "      <td>192.264151</td>\n",
       "      <td>4.547170</td>\n",
       "      <td>29.924717</td>\n",
       "      <td>5.794528</td>\n",
       "      <td>84.709434</td>\n",
       "      <td>2011</td>\n",
       "      <td>8</td>\n",
       "      <td>26</td>\n",
       "    </tr>\n",
       "  </tbody>\n",
       "</table>\n",
       "</div>"
      ],
      "text/plain": [
       "          Date        Avg       tmpf       dwpf       relh        drct  \\\n",
       "598 2011-08-22  20.572025  80.600000  75.200000  83.660000  250.000000   \n",
       "599 2011-08-23  13.958150  81.270588  75.411765  82.781961  122.941176   \n",
       "600 2011-08-24   9.764131  82.603774  75.743396  80.028519  156.545455   \n",
       "601 2011-08-25  12.677749  79.512500  75.350000  87.215833  154.230769   \n",
       "602 2011-08-26  16.391300  79.683019  76.388679  89.905283  192.264151   \n",
       "\n",
       "          sknt       alti      vsby       feel  year  month  day  \n",
       "598   4.666667  29.763333  6.210000  86.170000  2011      8   22  \n",
       "599  11.588235  29.798431  5.942549  87.272549  2011      8   23  \n",
       "600   6.849057  29.892453  2.271455  90.058704  2011      8   24  \n",
       "601   3.875000  29.954375 -2.246923  84.032083  2011      8   25  \n",
       "602   4.547170  29.924717  5.794528  84.709434  2011      8   26  "
      ]
     },
     "execution_count": 101,
     "metadata": {},
     "output_type": "execute_result"
    }
   ],
   "source": [
    "data.head()"
   ]
  },
  {
   "cell_type": "markdown",
   "metadata": {},
   "source": [
    "### 4.2 Creating new features\n",
    "\n",
    "Generation of the year, month, and day features from the date feature"
   ]
  },
  {
   "cell_type": "code",
   "execution_count": 34,
   "metadata": {},
   "outputs": [],
   "source": [
    "#extraction of the year, month and day from the Date column\n",
    "data['year'] = data.Date.dt.year\n",
    "data['month'] = data.Date.dt.month\n",
    "data['day'] = data.Date.dt.day"
   ]
  },
  {
   "cell_type": "markdown",
   "metadata": {},
   "source": [
    "### 5.0 Data Visualization\n",
    "\n",
    "This showed some aspect of seasonality in the PM2.5 levels.\n",
    "It also showed that at higher temperatures and humidity, there are lower levels of pollution"
   ]
  },
  {
   "cell_type": "code",
   "execution_count": 97,
   "metadata": {},
   "outputs": [
    {
     "data": {
      "text/plain": [
       "[<matplotlib.lines.Line2D at 0x1c7ba5b9308>]"
      ]
     },
     "execution_count": 97,
     "metadata": {},
     "output_type": "execute_result"
    },
    {
     "data": {
      "image/png": "[encoded data removed]",
      "text/plain": [
       "<Figure size 432x288 with 1 Axes>"
      ]
     },
     "metadata": {},
     "output_type": "display_data"
    }
   ],
   "source": [
    "# creation of a line plot\n",
    "plt.title('Date against Average PM2.5(μg/m3) ')\n",
    "plt.xlabel(\"Date\")\n",
    "plt.ylabel(\"PM2.5(μg/m3)\")\n",
    "plt.plot(data['Date'],data['Avg'])"
   ]
  },
  {
   "cell_type": "code",
   "execution_count": 37,
   "metadata": {},
   "outputs": [
    {
     "data": {
      "text/html": [
       "<div>\n",
       "<style scoped>\n",
       "    .dataframe tbody tr th:only-of-type {\n",
       "        vertical-align: middle;\n",
       "    }\n",
       "\n",
       "    .dataframe tbody tr th {\n",
       "        vertical-align: top;\n",
       "    }\n",
       "\n",
       "    .dataframe thead th {\n",
       "        text-align: right;\n",
       "    }\n",
       "</style>\n",
       "<table border=\"1\" class=\"dataframe\">\n",
       "  <thead>\n",
       "    <tr style=\"text-align: right;\">\n",
       "      <th></th>\n",
       "      <th>Avg</th>\n",
       "      <th>tmpf</th>\n",
       "      <th>dwpf</th>\n",
       "      <th>relh</th>\n",
       "    </tr>\n",
       "    <tr>\n",
       "      <th>month</th>\n",
       "      <th></th>\n",
       "      <th></th>\n",
       "      <th></th>\n",
       "      <th></th>\n",
       "    </tr>\n",
       "  </thead>\n",
       "  <tbody>\n",
       "    <tr>\n",
       "      <td>1</td>\n",
       "      <td>54.319417</td>\n",
       "      <td>71.526006</td>\n",
       "      <td>56.733916</td>\n",
       "      <td>63.104982</td>\n",
       "    </tr>\n",
       "    <tr>\n",
       "      <td>2</td>\n",
       "      <td>62.181158</td>\n",
       "      <td>69.338911</td>\n",
       "      <td>57.371975</td>\n",
       "      <td>68.971250</td>\n",
       "    </tr>\n",
       "    <tr>\n",
       "      <td>3</td>\n",
       "      <td>46.067102</td>\n",
       "      <td>76.325978</td>\n",
       "      <td>67.625493</td>\n",
       "      <td>76.481527</td>\n",
       "    </tr>\n",
       "    <tr>\n",
       "      <td>4</td>\n",
       "      <td>31.158956</td>\n",
       "      <td>70.697180</td>\n",
       "      <td>63.702545</td>\n",
       "      <td>79.880108</td>\n",
       "    </tr>\n",
       "    <tr>\n",
       "      <td>5</td>\n",
       "      <td>27.310488</td>\n",
       "      <td>73.640751</td>\n",
       "      <td>67.224676</td>\n",
       "      <td>81.013874</td>\n",
       "    </tr>\n",
       "  </tbody>\n",
       "</table>\n",
       "</div>"
      ],
      "text/plain": [
       "             Avg       tmpf       dwpf       relh\n",
       "month                                            \n",
       "1      54.319417  71.526006  56.733916  63.104982\n",
       "2      62.181158  69.338911  57.371975  68.971250\n",
       "3      46.067102  76.325978  67.625493  76.481527\n",
       "4      31.158956  70.697180  63.702545  79.880108\n",
       "5      27.310488  73.640751  67.224676  81.013874"
      ]
     },
     "execution_count": 37,
     "metadata": {},
     "output_type": "execute_result"
    }
   ],
   "source": [
    "#grouped the data by the month column\n",
    "avg_by_month = data.groupby('month')['Avg','tmpf','dwpf','relh'].mean()\n",
    "avg_by_month.head()"
   ]
  },
  {
   "cell_type": "code",
   "execution_count": 99,
   "metadata": {},
   "outputs": [
    {
     "data": {
      "text/plain": [
       "<matplotlib.legend.Legend at 0x1c7ba6a0b08>"
      ]
     },
     "execution_count": 99,
     "metadata": {},
     "output_type": "execute_result"
    },
    {
     "data": {
      "image/png": "[encoded data removed]",
      "text/plain": [
       "<Figure size 432x288 with 1 Axes>"
      ]
     },
     "metadata": {},
     "output_type": "display_data"
    }
   ],
   "source": [
    "plt.title('Average Relative humidity, Temperature, PM2.5 per Month')\n",
    "avg_by_month['Avg'].plot(kind='bar')\n",
    "avg_by_month['tmpf'].plot(label='Temperature')\n",
    "avg_by_month['relh'].plot(label='Relative Humidity')\n",
    "plt.legend()"
   ]
  },
  {
   "cell_type": "code",
   "execution_count": 100,
   "metadata": {},
   "outputs": [
    {
     "data": {
      "text/plain": [
       "<matplotlib.axes._subplots.AxesSubplot at 0x1c7ba737608>"
      ]
     },
     "execution_count": 100,
     "metadata": {},
     "output_type": "execute_result"
    },
    {
     "data": {
      "image/png": "[encoded data removed]",
      "text/plain": [
       "<Figure size 432x288 with 2 Axes>"
      ]
     },
     "metadata": {},
     "output_type": "display_data"
    }
   ],
   "source": [
    "#creation of a correlation heatmap\n",
    "plt.title('Correlation Heatmap')\n",
    "sns.heatmap(data.corr())"
   ]
  },
  {
   "cell_type": "markdown",
   "metadata": {},
   "source": [
    "### 6.0 Separation of features and targets"
   ]
  },
  {
   "cell_type": "code",
   "execution_count": 94,
   "metadata": {},
   "outputs": [],
   "source": [
    "#separating the features and target to be used in modelling\n",
    "target = data['Avg']\n",
    "features = data.drop(['Avg','Date'],axis=1)"
   ]
  },
  {
   "cell_type": "markdown",
   "metadata": {},
   "source": [
    "### 7.0 Modelling\n",
    "\n",
    "Used 3 regression models, namely:\n",
    "- XGBRegressor\n",
    "- RandomForestRegressor\n",
    "- LinearRegression\n",
    "\n",
    "\n",
    "To avoid overfitting, KFold cross validation with 5 splits was used"
   ]
  },
  {
   "cell_type": "code",
   "execution_count": 89,
   "metadata": {},
   "outputs": [],
   "source": [
    "kf = KFold(shuffle=True, n_splits=5) #created a 5-fold cross validation\n",
    "\n",
    "#instanciated the random forest,linear and XGB regressors\n",
    "xgb_model = xgb.XGBRegressor(objective = 'reg:squarederror')\n",
    "rf_model = RandomForestRegressor()\n",
    "linear_model=LinearRegression()"
   ]
  },
  {
   "cell_type": "code",
   "execution_count": 90,
   "metadata": {},
   "outputs": [
    {
     "name": "stdout",
     "output_type": "stream",
     "text": [
      "[-10.14000294 -10.18358484 -10.17883755 -10.76684479  -9.88854917]\n"
     ]
    }
   ],
   "source": [
    "# use of cross validation in XGB to ensure the model does not overfit\n",
    "scores= cross_val_score(xgb_model, features, target, cv=kf, scoring='neg_mean_absolute_error')\n",
    "print(scores)"
   ]
  },
  {
   "cell_type": "code",
   "execution_count": 91,
   "metadata": {},
   "outputs": [
    {
     "name": "stdout",
     "output_type": "stream",
     "text": [
      "[ -9.85066059  -8.00027545 -10.53341173  -9.54486113  -9.35050426]\n"
     ]
    }
   ],
   "source": [
    "# use of cross validation in RandomForest to ensure the model does not overfit\n",
    "scores= cross_val_score(rf_model, features, target, cv=kf, scoring='neg_mean_absolute_error')\n",
    "print(scores)"
   ]
  },
  {
   "cell_type": "code",
   "execution_count": 92,
   "metadata": {},
   "outputs": [
    {
     "name": "stdout",
     "output_type": "stream",
     "text": [
      "[-26.46858496 -12.87096047 -11.99590482 -16.92327857 -19.01869753\n",
      " -11.51313063 -18.18151873 -20.13209812 -27.4039555  -12.43483854]\n"
     ]
    }
   ],
   "source": [
    "# use of cross validation in linear regression to ensure the model does not overfit\n",
    "scores= cross_val_score(linear_model, features, target, cv=10, scoring='neg_mean_absolute_error')\n",
    "print(scores)"
   ]
  },
  {
   "cell_type": "markdown",
   "metadata": {},
   "source": [
    "### 7.1 Optimization of Random forest and XGB Regressors\n",
    "\n",
    "Used GridSearchCV to get the best combination of parameters"
   ]
  },
  {
   "cell_type": "code",
   "execution_count": 54,
   "metadata": {},
   "outputs": [],
   "source": [
    "#creation of a parameter grid\n",
    "param_grid={'learning_rate': [0.01,0.1], 'max_depth' : [3,5], 'alpha' : [3], \n",
    "            'n_estimators' : [300,500,700,900], 'subsample' : [0.2,0.5,0.7]}\n",
    "\n",
    "#instanciation of the GridSearchCV object\n",
    "xgb_grid = GridSearchCV(xgb_model, param_grid, scoring='neg_mean_absolute_error', cv=kf, error_score='raise-deprecating',\n",
    "                        n_jobs=-1)"
   ]
  },
  {
   "cell_type": "code",
   "execution_count": 55,
   "metadata": {},
   "outputs": [
    {
     "data": {
      "text/plain": [
       "GridSearchCV(cv=KFold(n_splits=5, random_state=None, shuffle=True),\n",
       "             error_score='raise-deprecating',\n",
       "             estimator=XGBRegressor(base_score=0.5, booster='gbtree',\n",
       "                                    colsample_bylevel=1, colsample_bynode=1,\n",
       "                                    colsample_bytree=1, gamma=0,\n",
       "                                    importance_type='gain', learning_rate=0.1,\n",
       "                                    max_delta_step=0, max_depth=3,\n",
       "                                    min_child_weight=1, missing=None,\n",
       "                                    n_estimators=100, n_jobs=1, nthr...\n",
       "                                    random_state=0, reg_alpha=0, reg_lambda=1,\n",
       "                                    scale_pos_weight=1, seed=None, silent=None,\n",
       "                                    subsample=1, verbosity=1),\n",
       "             iid='warn', n_jobs=-1,\n",
       "             param_grid={'alpha': [3], 'learning_rate': [0.01, 0.1],\n",
       "                         'max_depth': [3, 5],\n",
       "                         'n_estimators': [300, 500, 700, 900],\n",
       "                         'subsample': [0.2, 0.5, 0.7]},\n",
       "             pre_dispatch='2*n_jobs', refit=True, return_train_score=False,\n",
       "             scoring='neg_mean_absolute_error', verbose=0)"
      ]
     },
     "execution_count": 55,
     "metadata": {},
     "output_type": "execute_result"
    }
   ],
   "source": [
    "#fitting the data\n",
    "xgb_grid.fit(features, target)"
   ]
  },
  {
   "cell_type": "code",
   "execution_count": 56,
   "metadata": {},
   "outputs": [
    {
     "data": {
      "text/plain": [
       "{'alpha': 3,\n",
       " 'learning_rate': 0.01,\n",
       " 'max_depth': 5,\n",
       " 'n_estimators': 900,\n",
       " 'subsample': 0.7}"
      ]
     },
     "execution_count": 56,
     "metadata": {},
     "output_type": "execute_result"
    }
   ],
   "source": [
    "#getting the best parameters for the model\n",
    "xgb_grid.best_params_"
   ]
  },
  {
   "cell_type": "code",
   "execution_count": 61,
   "metadata": {},
   "outputs": [
    {
     "data": {
      "text/plain": [
       "-9.079750251176128"
      ]
     },
     "execution_count": 61,
     "metadata": {},
     "output_type": "execute_result"
    }
   ],
   "source": [
    "#getting the best score for the model\n",
    "xgb_grid.best_score_"
   ]
  },
  {
   "cell_type": "code",
   "execution_count": 93,
   "metadata": {},
   "outputs": [
    {
     "name": "stdout",
     "output_type": "stream",
     "text": [
      "[21:30:10] WARNING: C:/Jenkins/workspace/xgboost-win64_release_0.90/src/objective/regression_obj.cu:152: reg:linear is now deprecated in favor of reg:squarederror.\n",
      "[21:30:15] WARNING: C:/Jenkins/workspace/xgboost-win64_release_0.90/src/objective/regression_obj.cu:152: reg:linear is now deprecated in favor of reg:squarederror.\n",
      "[21:30:20] WARNING: C:/Jenkins/workspace/xgboost-win64_release_0.90/src/objective/regression_obj.cu:152: reg:linear is now deprecated in favor of reg:squarederror.\n",
      "[21:30:26] WARNING: C:/Jenkins/workspace/xgboost-win64_release_0.90/src/objective/regression_obj.cu:152: reg:linear is now deprecated in favor of reg:squarederror.\n",
      "[21:30:31] WARNING: C:/Jenkins/workspace/xgboost-win64_release_0.90/src/objective/regression_obj.cu:152: reg:linear is now deprecated in favor of reg:squarederror.\n",
      "[-10.33608685  -8.5984514   -9.15366781  -8.4111379   -9.04706089]\n"
     ]
    }
   ],
   "source": [
    "xgb_regressor = xgb.XGBRegressor(alpha = 3, learning_rate = 0.01,max_depth=5, n_estimators=1000, subsample=0.7)\n",
    "\n",
    "scores= cross_val_score(xgb_regressor, features, target, cv=kf, scoring='neg_mean_absolute_error')\n",
    "print(scores)"
   ]
  },
  {
   "cell_type": "code",
   "execution_count": 62,
   "metadata": {},
   "outputs": [],
   "source": [
    "param_grid={'max_depth': [None,3,5], 'max_features' : [3,5],'n_estimators' : [100,500,700,900]}\n",
    "rf_grid = GridSearchCV(rf_model, param_grid, scoring='neg_mean_absolute_error', cv=kf, n_jobs=-1)"
   ]
  },
  {
   "cell_type": "code",
   "execution_count": 63,
   "metadata": {},
   "outputs": [
    {
     "data": {
      "text/plain": [
       "GridSearchCV(cv=KFold(n_splits=5, random_state=None, shuffle=True),\n",
       "             error_score='raise-deprecating',\n",
       "             estimator=RandomForestRegressor(bootstrap=True, criterion='mse',\n",
       "                                             max_depth=None,\n",
       "                                             max_features='auto',\n",
       "                                             max_leaf_nodes=None,\n",
       "                                             min_impurity_decrease=0.0,\n",
       "                                             min_impurity_split=None,\n",
       "                                             min_samples_leaf=1,\n",
       "                                             min_samples_split=2,\n",
       "                                             min_weight_fraction_leaf=0.0,\n",
       "                                             n_estimators=10, n_jobs=None,\n",
       "                                             oob_score=False, random_state=None,\n",
       "                                             verbose=0, warm_start=False),\n",
       "             iid='warn', n_jobs=-1,\n",
       "             param_grid={'max_depth': [None, 3, 5], 'max_features': [3, 5],\n",
       "                         'n_estimators': [100, 500, 700, 900]},\n",
       "             pre_dispatch='2*n_jobs', refit=True, return_train_score=False,\n",
       "             scoring='neg_mean_absolute_error', verbose=0)"
      ]
     },
     "execution_count": 63,
     "metadata": {},
     "output_type": "execute_result"
    }
   ],
   "source": [
    "rf_grid.fit(features, target)"
   ]
  },
  {
   "cell_type": "code",
   "execution_count": 64,
   "metadata": {},
   "outputs": [
    {
     "data": {
      "text/plain": [
       "{'max_depth': None, 'max_features': 5, 'n_estimators': 900}"
      ]
     },
     "execution_count": 64,
     "metadata": {},
     "output_type": "execute_result"
    }
   ],
   "source": [
    "rf_grid.best_params_"
   ]
  },
  {
   "cell_type": "code",
   "execution_count": 65,
   "metadata": {},
   "outputs": [
    {
     "data": {
      "text/plain": [
       "-8.797766742195547"
      ]
     },
     "execution_count": 65,
     "metadata": {},
     "output_type": "execute_result"
    }
   ],
   "source": [
    "rf_grid.best_score_"
   ]
  },
  {
   "cell_type": "code",
   "execution_count": 80,
   "metadata": {},
   "outputs": [
    {
     "name": "stdout",
     "output_type": "stream",
     "text": [
      "[-9.28561111 -9.13521117 -8.81797801 -8.81141148 -8.5402812 ]\n"
     ]
    }
   ],
   "source": [
    "rf_regressor = RandomForestRegressor(max_features=5, n_estimators=1000)\n",
    "\n",
    "scores= cross_val_score(rf_regressor, features, target, cv=kf, scoring='neg_mean_absolute_error')\n",
    "print(scores)"
   ]
  },
  {
   "cell_type": "markdown",
   "metadata": {},
   "source": [
    "### 8.0 Conclusion\n",
    "\n",
    "The RandomForestRegressor edged out the XGBRegressor having a mean absolute error of 8.798"
   ]
  },
  {
   "cell_type": "code",
   "execution_count": null,
   "metadata": {},
   "outputs": [],
   "source": []
  }
 ],
 "metadata": {
  "kernelspec": {
   "display_name": "Python 3",
   "language": "python",
   "name": "python3"
  },
  "language_info": {
   "codemirror_mode": {
    "name": "ipython",
    "version": 3
   },
   "file_extension": ".py",
   "mimetype": "text/x-python",
   "name": "python",
   "nbconvert_exporter": "python",
   "pygments_lexer": "ipython3",
   "version": "3.7.4"
  }
 },
 "nbformat": 4,
 "nbformat_minor": 2
}
